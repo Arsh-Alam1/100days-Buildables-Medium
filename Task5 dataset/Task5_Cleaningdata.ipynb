{
 "cells": [
  {
   "cell_type": "code",
   "execution_count": null,
   "id": "18425e9e",
   "metadata": {},
   "outputs": [],
   "source": [
    "#Importing libraries\n",
    "import pandas as pd\n",
    "import numpy as np\n",
    "import matplotlib.pyplot as plt\n",
    "from scipy import stats\n"
   ]
  },
  {
   "cell_type": "code",
   "execution_count": null,
   "id": "056bf537",
   "metadata": {},
   "outputs": [],
   "source": [
    "#Analyzing first 5 rows\n",
    "df = pd.read_csv(\"train.csv\")\n",
    "print(\"First 5 rows:\\n\", df.head())\n",
    "print(\"\\nData Types:\\n\", df.dtypes)\n"
   ]
  },
  {
   "cell_type": "code",
   "execution_count": null,
   "id": "39297c9f",
   "metadata": {},
   "outputs": [],
   "source": [
    "\n",
    "#Clean missing values\n",
    "for col in df.columns:\n",
    "    if df[col].dtype in [\"int64\", \"float64\"]:\n",
    "        df[col] = df[col].fillna(df[col].mean())\n",
    "    else:\n",
    "        df[col] = df[col].fillna(df[col].mode()[0])\n"
   ]
  },
  {
   "cell_type": "code",
   "execution_count": null,
   "id": "78b6fe88",
   "metadata": {},
   "outputs": [],
   "source": [
    "\n",
    "# Using and defining formulas from task 4\n",
    "def mean(values):\n",
    "    return np.mean(values)\n",
    "def median(values):\n",
    "    return np.median(values)\n",
    "def mode(values):\n",
    "    return stats.mode(values, keepdims=True)[0][0]\n",
    "def variance(values):\n",
    "    return np.var(values)\n",
    "def std_dev(values):\n",
    "    return np.std(values)\n"
   ]
  },
  {
   "cell_type": "code",
   "execution_count": null,
   "id": "3b4d8677",
   "metadata": {},
   "outputs": [],
   "source": [
    "\n",
    "# Apply formulas on 'SalePrice'\n",
    "col = df[\"SalePrice\"]\n",
    "print(\"\\nSalePrice Stats:\")\n",
    "print(\"Mean:\", mean(col))\n",
    "print(\"Median:\", median(col))\n",
    "print(\"Mode:\", mode(col))\n",
    "print(\"Variance:\", variance(col))\n",
    "print(\"Standard Deviation:\", std_dev(col))\n"
   ]
  },
  {
   "cell_type": "code",
   "execution_count": null,
   "id": "868a5a05",
   "metadata": {},
   "outputs": [],
   "source": [
    "\n",
    "# Histogram\n",
    "plt.hist(df[\"SalePrice\"], bins=30, edgecolor=\"black\")\n",
    "plt.title(\"Histogram of SalePrice\")\n",
    "plt.xlabel(\"Price\")\n",
    "plt.ylabel(\"Frequency\")\n",
    "plt.show()\n"
   ]
  },
  {
   "cell_type": "code",
   "execution_count": null,
   "id": "2db6608e",
   "metadata": {},
   "outputs": [],
   "source": [
    "\n",
    "# Bar chart\n",
    "df[\"Neighborhood\"].value_counts().head(10).plot(kind=\"bar\")\n",
    "plt.title(\"Top 10 Neighborhoods\")\n",
    "plt.xlabel(\"Neighborhood\")\n",
    "plt.ylabel(\"Count\")\n",
    "plt.show()\n"
   ]
  },
  {
   "cell_type": "markdown",
   "id": "7359dbd1",
   "metadata": {},
   "source": [
    "\n",
    "### Insights from House Prices Dataset\n",
    "\n",
    "**a) What did I learn?**  \n",
    "- SalePrice distribution is right-skewed.  \n",
    "- Some neighborhoods dominate the dataset.  \n",
    "\n",
    "**b) How did visualization help?**  \n",
    "- Histogram showed skewness of prices.  \n",
    "- Bar chart showed distribution across neighborhoods.  \n",
    "\n",
    "**c) Cleaning issues faced:**  \n",
    "- Missing numeric values → replaced with mean.  \n",
    "- Missing categorical values → replaced with mode.  \n",
    "- Some columns needed conversion to numeric.  \n"
   ]
  }
 ],
 "metadata": {
  "language_info": {
   "name": "python"
  }
 },
 "nbformat": 4,
 "nbformat_minor": 5
}
