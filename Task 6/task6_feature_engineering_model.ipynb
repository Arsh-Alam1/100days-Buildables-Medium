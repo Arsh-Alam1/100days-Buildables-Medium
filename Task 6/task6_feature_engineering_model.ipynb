{
 "cells": [
  {
   "cell_type": "markdown",
   "id": "77e8dd71",
   "metadata": {},
   "source": [
    "# Task 6: Feature Engineering & Basic Modeling\n",
    "This notebook demonstrates feature engineering, training a simple Linear Regression model, evaluating performance, and visualizing results using the Kaggle House Prices dataset."
   ]
  },
  {
   "cell_type": "code",
   "execution_count": null,
   "id": "8e7e23db",
   "metadata": {},
   "outputs": [],
   "source": [
    "import pandas as pd\n",
    "import numpy as np\n",
    "import matplotlib.pyplot as plt\n",
    "import seaborn as sns"
   ]
  },
  {
   "cell_type": "code",
   "execution_count": null,
   "id": "cc221de5",
   "metadata": {},
   "outputs": [],
   "source": [
    "from sklearn.model_selection import train_test_split\n",
    "from sklearn.preprocessing import OneHotEncoder, StandardScaler\n",
    "from sklearn.compose import ColumnTransformer\n",
    "from sklearn.pipeline import Pipeline\n",
    "from sklearn.linear_model import LinearRegression\n",
    "from sklearn.metrics import mean_absolute_error, r2_score"
   ]
  },
  {
   "cell_type": "code",
   "execution_count": null,
   "id": "ceeee06e",
   "metadata": {},
   "outputs": [],
   "source": [
    "df = pd.read_csv(\"train.csv\")   # Kaggle House Prices dataset"
   ]
  },
  {
   "cell_type": "code",
   "execution_count": null,
   "id": "11a754a9",
   "metadata": {},
   "outputs": [],
   "source": [
    "print(\"First 5 rows:\")\n",
    "print(df.head())\n",
    "print(\"\\nData Info:\")\n",
    "print(df.info())"
   ]
  },
  {
   "cell_type": "code",
   "execution_count": null,
   "id": "a13bf154",
   "metadata": {},
   "outputs": [],
   "source": [
    "for col in df.columns:\n",
    "    if df[col].dtype in [\"int64\", \"float64\"]:\n",
    "        df[col] = df[col].fillna(df[col].mean())\n",
    "    else:\n",
    "        df[col] = df[col].fillna(df[col].mode()[0])"
   ]
  },
  {
   "cell_type": "code",
   "execution_count": null,
   "id": "5e4c5d13",
   "metadata": {},
   "outputs": [],
   "source": [
    "numeric_features = [\"OverallQual\", \"GrLivArea\", \"GarageCars\", \"TotalBsmtSF\", \"FullBath\"]\n",
    "categorical_features = [\"Neighborhood\", \"HouseStyle\"]\n",
    "target = \"SalePrice\""
   ]
  },
  {
   "cell_type": "code",
   "execution_count": null,
   "id": "c8dcd950",
   "metadata": {},
   "outputs": [],
   "source": [
    "X = df[numeric_features + categorical_features]\n",
    "y = df[target]"
   ]
  },
  {
   "cell_type": "code",
   "execution_count": null,
   "id": "fd057d51",
   "metadata": {},
   "outputs": [],
   "source": [
    "numeric_transformer = Pipeline(steps=[\n",
    "    (\"scaler\", StandardScaler())\n",
    "])"
   ]
  },
  {
   "cell_type": "code",
   "execution_count": null,
   "id": "ccec41b3",
   "metadata": {},
   "outputs": [],
   "source": [
    "categorical_transformer = OneHotEncoder(handle_unknown=\"ignore\")"
   ]
  },
  {
   "cell_type": "code",
   "execution_count": null,
   "id": "5c11e7d0",
   "metadata": {},
   "outputs": [],
   "source": [
    "preprocessor = ColumnTransformer(\n",
    "    transformers=[\n",
    "        (\"num\", numeric_transformer, [\"GrLivArea\", \"TotalBsmtSF\"]),  # scale these\n",
    "        (\"cat\", categorical_transformer, categorical_features)\n",
    "    ],\n",
    "    remainder=\"passthrough\"\n",
    ")"
   ]
  },
  {
   "cell_type": "code",
   "execution_count": null,
   "id": "692ddb1c",
   "metadata": {},
   "outputs": [],
   "source": [
    "model = Pipeline(steps=[\n",
    "    (\"preprocessor\", preprocessor),\n",
    "    (\"regressor\", LinearRegression())\n",
    "])"
   ]
  },
  {
   "cell_type": "code",
   "execution_count": null,
   "id": "d815775d",
   "metadata": {},
   "outputs": [],
   "source": [
    "X_train, X_test, y_train, y_test = train_test_split(\n",
    "    X, y, test_size=0.2, random_state=42\n",
    ")"
   ]
  },
  {
   "cell_type": "code",
   "execution_count": null,
   "id": "04126c52",
   "metadata": {},
   "outputs": [],
   "source": [
    "model.fit(X_train, y_train)\n",
    "y_pred = model.predict(X_test)"
   ]
  },
  {
   "cell_type": "code",
   "execution_count": null,
   "id": "9bd7f006",
   "metadata": {},
   "outputs": [],
   "source": [
    "mae = mean_absolute_error(y_test, y_pred)\n",
    "r2 = r2_score(y_test, y_pred)"
   ]
  },
  {
   "cell_type": "code",
   "execution_count": null,
   "id": "431a7e9a",
   "metadata": {},
   "outputs": [],
   "source": [
    "print(\"\\nModel Performance:\")\n",
    "print(\"Mean Absolute Error:\", mae)\n",
    "print(\"R² Score:\", r2)"
   ]
  },
  {
   "cell_type": "code",
   "execution_count": null,
   "id": "92ed7590",
   "metadata": {},
   "outputs": [],
   "source": [
    "results_df = pd.DataFrame({\n",
    "    \"Metric\": [\"MAE\", \"R2\"],\n",
    "    \"Value\": [mae, r2]\n",
    "})\n",
    "results_df.to_csv(\"model_evaluation_results.csv\", index=False)"
   ]
  },
  {
   "cell_type": "code",
   "execution_count": null,
   "id": "e9e07116",
   "metadata": {},
   "outputs": [],
   "source": [
    "plt.figure(figsize=(6, 6))\n",
    "sns.scatterplot(x=y_test, y=y_pred, alpha=0.6)\n",
    "plt.plot([y_test.min(), y_test.max()],\n",
    "         [y_test.min(), y_test.max()],\n",
    "         color=\"red\", linestyle=\"--\")\n",
    "plt.xlabel(\"Actual SalePrice\")\n",
    "plt.ylabel(\"Predicted SalePrice\")\n",
    "plt.title(\"Predicted vs Actual SalePrice\")\n",
    "plt.savefig(\"predicted_vs_actual.png\", dpi=300, bbox_inches=\"tight\")\n",
    "plt.close()"
   ]
  },
  {
   "cell_type": "code",
   "execution_count": null,
   "id": "08c4267b",
   "metadata": {},
   "outputs": [],
   "source": [
    "cat_features = model.named_steps[\"preprocessor\"].transformers_[1][1].get_feature_names_out(categorical_features)\n",
    "all_features = np.concatenate([\n",
    "    [\"GrLivArea\", \"TotalBsmtSF\"],   # scaled features\n",
    "    cat_features,                   # encoded categorical features\n",
    "    [\"OverallQual\", \"GarageCars\", \"FullBath\"]  # passthrough numeric features\n",
    "])\n",
    "coefficients = model.named_steps[\"regressor\"].coef_"
   ]
  },
  {
   "cell_type": "code",
   "execution_count": null,
   "id": "77458fb4",
   "metadata": {},
   "outputs": [],
   "source": [
    "feature_importance = pd.DataFrame({\n",
    "    \"Feature\": all_features,\n",
    "    \"Coefficient\": coefficients\n",
    "}).sort_values(by=\"Coefficient\", key=abs, ascending=False)"
   ]
  },
  {
   "cell_type": "code",
   "execution_count": null,
   "id": "d79320e1",
   "metadata": {},
   "outputs": [],
   "source": [
    "print(\"\\nTop 10 Important Features:\")\n",
    "print(feature_importance.head(10))"
   ]
  },
  {
   "cell_type": "code",
   "execution_count": null,
   "id": "98e069b8",
   "metadata": {},
   "outputs": [],
   "source": [
    "feature_importance.to_csv(\"feature_importance.csv\", index=False)"
   ]
  },
  {
   "cell_type": "code",
   "execution_count": null,
   "id": "8e2b9e5b",
   "metadata": {},
   "outputs": [],
   "source": [
    "plt.figure(figsize=(8, 6))\n",
    "sns.barplot(x=\"Coefficient\", y=\"Feature\", data=feature_importance.head(15))\n",
    "plt.title(\"Top 15 Feature Importance (Linear Regression Coefficients)\")\n",
    "plt.savefig(\"feature_importance.png\", dpi=300, bbox_inches=\"tight\")\n",
    "plt.close()\n"
   ]
  }
 ],
 "metadata": {},
 "nbformat": 4,
 "nbformat_minor": 5
}
